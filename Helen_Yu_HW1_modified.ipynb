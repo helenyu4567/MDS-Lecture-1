{
 "cells": [
  {
   "cell_type": "code",
   "execution_count": 20,
   "id": "24c750b0-f085-4da3-a4b5-ed4655e774fa",
   "metadata": {},
   "outputs": [
    {
     "data": {
      "text/plain": [
       "{'cells': [{'cell_type': 'markdown',\n",
       "   'id': '7f07a292',\n",
       "   'metadata': {},\n",
       "   'source': ['# Homework 1: Project Report']},\n",
       "  {'cell_type': 'markdown',\n",
       "   'id': 'e2329d02',\n",
       "   'metadata': {},\n",
       "   'source': ['### **Table of Contents**']}]}"
      ]
     },
     "execution_count": 20,
     "metadata": {},
     "output_type": "execute_result"
    }
   ],
   "source": [
    "{\n",
    "  \"cells\": [\n",
    "    {\n",
    "      \"cell_type\": \"markdown\",\n",
    "      \"id\": \"7f07a292\",\n",
    "      \"metadata\": {},\n",
    "      \"source\": [\n",
    "        \"# Homework 1: Project Report\"\n",
    "      ]\n",
    "    },\n",
    "    {\n",
    "      \"cell_type\": \"markdown\",\n",
    "      \"id\": \"e2329d02\",\n",
    "      \"metadata\": {},\n",
    "      \"source\": [\"### **Table of Contents**\"]\n",
    "    }\n",
    "  ]\n",
    "}"
   ]
  },
  {
   "cell_type": "code",
   "execution_count": 26,
   "id": "fd0baa78-86fc-49d0-b252-37cc734864a5",
   "metadata": {},
   "outputs": [
    {
     "data": {
      "text/plain": [
       "{'cell_type': 'markdown',\n",
       " 'id': 'a66d337c',\n",
       " 'metadata': {},\n",
       " 'source': ['1. [Introduction](#introduction)\\n',\n",
       "  '2. [Project Overview](#project-overview)\\n',\n",
       "  '3. [Data Visualisation](#data-visualisation)\\n',\n",
       "  '4. [Key Findings](#key-findings)\\n',\n",
       "  '5. [Conclusion](#conclusion)\\n']}"
      ]
     },
     "execution_count": 26,
     "metadata": {},
     "output_type": "execute_result"
    }
   ],
   "source": [
    "{\n",
    "  \"cell_type\": \"markdown\",\n",
    "  \"id\": \"a66d337c\",\n",
    "  \"metadata\": {},\n",
    "  \"source\": [\n",
    "    \"1. [Introduction](#introduction)\\n\",\n",
    "    \"2. [Project Overview](#project-overview)\\n\",\n",
    "    \"3. [Data Visualisation](#data-visualisation)\\n\",\n",
    "    \"4. [Key Findings](#key-findings)\\n\",\n",
    "    \"5. [Conclusion](#conclusion)\\n\"\n",
    "    \"6. [Answer to question 6](#questin 6)\\n\"\n",
    "  ]\n",
    "}"
   ]
  },
  {
   "cell_type": "code",
   "execution_count": 30,
   "id": "fa68d83e-d536-41d0-8e46-e384e4ea075c",
   "metadata": {
    "scrolled": true
   },
   "outputs": [
    {
     "data": {
      "text/plain": [
       "({'cell_type': 'markdown',\n",
       "  'id': '1559e653-3525-4922-a0cc-acf578c7a8c6',\n",
       "  'metadata': {},\n",
       "  'source': ['## 1. Introduction <a class=\"anchor\" id=\"bullet1\"></a>\\n',\n",
       "   \"In this report, I will look at the [Financial Insights in Banking Data using Power BI](https://github.com/meabhaykr/Financial-Insights-in-Banking-Data-using-PowerBI) project by Abhay Kumar. This project leverages Power BI to provide in-depth financial insights for banking institutions. By analyzing 'Banking Transactions' and 'Customer Account Details' datasets, he aims to help banks make informed decisions about customer relationships, risk assessment, and product offerings.\"]},)"
      ]
     },
     "execution_count": 30,
     "metadata": {},
     "output_type": "execute_result"
    }
   ],
   "source": [
    "{\n",
    "   \"cell_type\": \"markdown\",\n",
    "   \"id\": \"1559e653-3525-4922-a0cc-acf578c7a8c6\",\n",
    "   \"metadata\": {},\n",
    "   \"source\": [\n",
    "    \"## 1. Introduction <a class=\\\"anchor\\\" id=\\\"bullet1\\\"></a>\\n\",\n",
    "    \"In this report, I will look at the [Financial Insights in Banking Data using Power BI](https://github.com/meabhaykr/Financial-Insights-in-Banking-Data-using-PowerBI) project by Abhay Kumar. This project leverages Power BI to provide in-depth financial insights for banking institutions. By analyzing 'Banking Transactions' and 'Customer Account Details' datasets, he aims to help banks make informed decisions about customer relationships, risk assessment, and product offerings.\"\n",
    "   ]\n",
    "  },"
   ]
  },
  {
   "cell_type": "code",
   "execution_count": 32,
   "id": "fa25d13b-6459-48ad-8928-281475db574e",
   "metadata": {},
   "outputs": [
    {
     "data": {
      "text/plain": [
       "({'cell_type': 'markdown',\n",
       "  'id': '90c1531e',\n",
       "  'metadata': {},\n",
       "  'source': ['## 2. Project Review<a class=\"anchor\" id=\"bullet1\"></a>\\n',\n",
       "   'The project has the following parts: project goals, tools & technologies, and methodology:\\n',\n",
       "   '<a class=\"anchor\" id=\"Project goals\"></a>\\n',\n",
       "   '\\n',\n",
       "   '<a class=\"anchor\" id=\"project goals\"></a>\\n',\n",
       "   '## - Project goals\\n',\n",
       "   '\\n',\n",
       "   '- **Three goals:** Extract meaningful insights from banking data to support strategic decision-making. Improve customer satisfaction through data-driven optimizations in banking services.Identify new growth opportunities and predict future account growth using advanced data analysis techniques.\\n',\n",
       "   '\\n',\n",
       "   '<a class=\"anchor\" id=\"Tools and technologies\"></a>\\n',\n",
       "   '## -Tools and technologies\\n',\n",
       "   '- **Power BI:** For data visualization and dashboard creation.\\n',\n",
       "   '- **DAX (Data Analysis Expressions):** For advanced data analysis and calculations.\\n',\n",
       "   '- **EDA (Exploratory Data Analysis):** For initial data exploration and understanding\\n',\n",
       "   '- **Data Cleaning:** Ensuring data quality and consistency.\\n<a class=\"anchor\" id=\"Methodology\"></a>\\n',\n",
       "   '## -Methodology\\n',\n",
       "   '  1. **Data Import and Quality Check**: Imported both datasets into Power BI and checked for data quality issues.\\n',\n",
       "   '  2. **Data Cleaning**: Removed failed transactions and standardized transaction amounts.\\n',\n",
       "   '  3. **Data Merging**: Combined the datasets for comprehensive analysis.\\n',\n",
       "   '  4. **Advanced Analysis using DAX**: Imported both datasets into Power BI and checked for data quality issues.\\n',\n",
       "   '  5. **Predictive Modeling**: Removed failed transactions and standardized transaction amounts.\\n',\n",
       "   '  6. **Visualization**:Created interactive dashboards to present insights clearly and effectively.\\n',\n",
       "   '\\n',\n",
       "   '---\\n',\n",
       "   '\\n',\n",
       "   '<a class=\"anchor\" id=\"key-findings\"></a>\\n']},)"
      ]
     },
     "execution_count": 32,
     "metadata": {},
     "output_type": "execute_result"
    }
   ],
   "source": [
    " {\"cell_type\": \"markdown\",\n",
    "   \"id\": \"90c1531e\",\n",
    "   \"metadata\": {},\n",
    "   \"source\": [\n",
    "    \"## 2. Project Review<a class=\\\"anchor\\\" id=\\\"bullet2\\\"></a>\\n\",\n",
    "    \"The project has the following parts: project goals, tools & technologies, and methodology:\\n\",\n",
    "        \"<a class=\\\"anchor\\\" id=\\\"Project goals\\\"></a>\\n\",\n",
    "      \"\\n\",\n",
    "    \"<a class=\\\"anchor\\\" id=\\\"project goals\\\"></a>\\n\",\n",
    "    \"## - Project goals\\n\",\n",
    "    \"\\n\",\n",
    "    \"- **Three goals:** Extract meaningful insights from banking data to support strategic decision-making. Improve customer satisfaction through data-driven optimizations in banking services.Identify new growth opportunities and predict future account growth using advanced data analysis techniques.\\n\",\n",
    "    \"\\n\",\n",
    "      \"<a class=\\\"anchor\\\" id=\\\"Tools and technologies\\\"></a>\\n\",\n",
    "    \"## -Tools and technologies\\n\",\n",
    "       \"- **Power BI:** For data visualization and dashboard creation.\\n\",\n",
    "       \"- **DAX (Data Analysis Expressions):** For advanced data analysis and calculations.\\n\",\n",
    "       \"- **EDA (Exploratory Data Analysis):** For initial data exploration and understanding\\n\",\n",
    "       \"- **Data Cleaning:** Ensuring data quality and consistency.\\n\"\n",
    "    \"<a class=\\\"anchor\\\" id=\\\"Methodology\\\"></a>\\n\",\n",
    "    \"## -Methodology\\n\",\n",
    "    \"  1. **Data Import and Quality Check**: Imported both datasets into Power BI and checked for data quality issues.\\n\",\n",
    "    \"  2. **Data Cleaning**: Removed failed transactions and standardized transaction amounts.\\n\",\n",
    "    \"  3. **Data Merging**: Combined the datasets for comprehensive analysis.\\n\",\n",
    "    \"  4. **Advanced Analysis using DAX**: Imported both datasets into Power BI and checked for data quality issues.\\n\",\n",
    "    \"  5. **Predictive Modeling**: Removed failed transactions and standardized transaction amounts.\\n\",\n",
    "    \"  6. **Visualization**:Created interactive dashboards to present insights clearly and effectively.\\n\",\n",
    "    \"\\n\",\n",
    "    \"---\\n\",\n",
    "    \"\\n\",\n",
    "    \"<a class=\\\"anchor\\\" id=\\\"key-findings\\\"></a>\\n\"\n",
    "   ]},"
   ]
  },
  {
   "cell_type": "code",
   "execution_count": 2,
   "id": "2d324232-15c2-48b7-bca5-f7d2282289c6",
   "metadata": {},
   "outputs": [
    {
     "data": {
      "text/plain": [
       "{'cell_type': 'markdown',\n",
       " 'id': 'eb0b3ba0',\n",
       " 'metadata': {},\n",
       " 'source': ['<a class=\"anchor\" id=\"bullet3\"></a>\\n',\n",
       "  '# **3. Data Visualisation**\\n',\n",
       "  '![My Image](images/image_finance_power_BI_project.png)']}"
      ]
     },
     "execution_count": 2,
     "metadata": {},
     "output_type": "execute_result"
    }
   ],
   "source": [
    "{\n",
    "   \"cell_type\": \"markdown\",\n",
    "   \"id\": \"eb0b3ba0\",\n",
    "   \"metadata\": {},\n",
    "   \"source\": [\n",
    "      \"<a class=\\\"anchor\\\" id=\\\"bullet3\\\"></a>\\n\",\n",
    "      \"# **3. Data Visualisation**\\n\",\n",
    "      \"![My Image](images/image_finance_power_BI_project.png)\"\n",
    "   ]\n",
    "}"
   ]
  },
  {
   "cell_type": "code",
   "execution_count": 4,
   "id": "b671bfea-3a82-4c34-b9a0-6ef5f8319795",
   "metadata": {},
   "outputs": [
    {
     "data": {
      "text/plain": [
       "({'cell_type': 'markdown',\n",
       "  'id': 'eb0b3ba0',\n",
       "  'metadata': {},\n",
       "  'source': ['<a class=\"anchor\" id=\"bullet4\"></a>\\n',\n",
       "   '# **4. Key Findings**\\n',\n",
       "   '\\n',\n",
       "   '- **Branch Efficiency:**\\n',\n",
       "   'The rating system provided insights into branch performance and areas for improvement.\\n',\n",
       "   '- **Customer Analysis:**\\n',\n",
       "   'Detailed understanding of customer demographics and high-value transactions.\\n',\n",
       "   '- **Risk Assessment:** \\n',\n",
       "   'Enhanced risk management through comprehensive credit score analysis.- **Strategic Decision-Making:** \\n',\n",
       "   'Data-driven insights enabled informed strategic decisions, improving overall performance and customer satisfaction.']},)"
      ]
     },
     "execution_count": 4,
     "metadata": {},
     "output_type": "execute_result"
    }
   ],
   "source": [
    "{\n",
    "   \"cell_type\": \"markdown\",\n",
    "   \"id\": \"eb0b3ba0\",\n",
    "   \"metadata\": {},\n",
    "   \"source\": [\n",
    "    \"<a class=\\\"anchor\\\" id=\\\"bullet4\\\"></a>\\n\",\n",
    "    \"# **4. Key Findings**\\n\",\n",
    "    \"\\n\",\n",
    "    \"- **Branch Efficiency:**\\n\",\n",
    "    \"The rating system provided insights into branch performance and areas for improvement.\\n\",\n",
    "    \"- **Customer Analysis:**\\n\",\n",
    "    \"Detailed understanding of customer demographics and high-value transactions.\\n\",\n",
    "    \"- **Risk Assessment:** \\n\",\n",
    "    \"Enhanced risk management through comprehensive credit score analysis.\"\n",
    "    \"- **Strategic Decision-Making:** \\n\",\n",
    "    \"Data-driven insights enabled informed strategic decisions, improving overall performance and customer satisfaction.\"\n",
    "   ]\n",
    "  },"
   ]
  },
  {
   "cell_type": "code",
   "execution_count": 6,
   "id": "87f46d93-4ae7-41fd-b912-7c79e11ae7c0",
   "metadata": {},
   "outputs": [
    {
     "data": {
      "text/plain": [
       "({'cell_type': 'markdown',\n",
       "  'id': '3c295baa',\n",
       "  'metadata': {},\n",
       "  'source': ['<a class=\"anchor\" id=\"conclusion\"></a>\\n',\n",
       "   '# **4. Conclusion**\\n',\n",
       "   '\\n',\n",
       "   'This project demonstrates the power of data analysis and visualization in transforming raw banking data into actionable insights. By leveraging Power BI and advanced analytics, banking institutions can optimize their services, manage risks more effectively, and enhance customer satisfaction.']},)"
      ]
     },
     "execution_count": 6,
     "metadata": {},
     "output_type": "execute_result"
    }
   ],
   "source": [
    "{\n",
    "   \"cell_type\": \"markdown\",\n",
    "   \"id\": \"3c295baa\",\n",
    "   \"metadata\": {},\n",
    "   \"source\": [\n",
    "    \"<a class=\\\"anchor\\\" id=\\\"bullet 5\\\"></a>\\n\",\n",
    "    \"# **5. Conclusion**\\n\",\n",
    "    \"\\n\",\n",
    "    \"This project demonstrates the power of data analysis and visualization in transforming raw banking data into actionable insights. By leveraging Power BI and advanced analytics, banking institutions can optimize their services, manage risks more effectively, and enhance customer satisfaction.\"\n",
    "   ]\n",
    "  },"
   ]
  },
  {
   "cell_type": "code",
   "execution_count": 10,
   "id": "620f31c1-c6e3-4cd6-8638-48f80849962f",
   "metadata": {},
   "outputs": [
    {
     "data": {
      "text/plain": [
       "{'cell_type': 'markdown',\n",
       " 'id': '765ba3e2',\n",
       " 'metadata': {},\n",
       " 'source': ['<a class=\"anchor\" id=\"key-findings\"></a>\\n',\n",
       "  '# **5. Question 6 Answer**\\n',\n",
       "  '\\n',\n",
       "  '**#Question#**: *When you looked at your commit history on either GitHub or GitHub Desktop for the Jupyter Notebook, did the code look familiar? What about the code for the python script you made? Why did the code for Jupyter Notebook seem foreign?*\\n',\n",
       "  '\\n',\n",
       "  '**Answer**: *When I checked the commit history for the Jupyter Notebook, the code didn’t look familiar at all, but the Python script was much easier to recognize. At first, I was confused about why the notebook’s history seemed so messy, but then I realized it’s because Jupyter Notebooks are saved as JSON files. This means they store not just the code and markdown but also metadata, outputs, and execution details, which makes the commits look way more complicated. That’s why the Python script felt clearer—it’s just regular code without all the extra stuff.*']}"
      ]
     },
     "execution_count": 10,
     "metadata": {},
     "output_type": "execute_result"
    }
   ],
   "source": [
    "{\n",
    "   \"cell_type\": \"markdown\",\n",
    "   \"id\": \"765ba3e2\",\n",
    "   \"metadata\": {},\n",
    "   \"source\": [\n",
    "    \"<a class=\\\"anchor\\\" id=\\\"key-findings\\\"></a>\\n\",\n",
    "    \"# **5. Question 6 Answer**\\n\",\n",
    "    \"\\n\",\n",
    "    \"**#Question#**: *When you looked at your commit history on either GitHub or GitHub Desktop for the Jupyter Notebook, did the code look familiar? What about the code for the python script you made? Why did the code for Jupyter Notebook seem foreign?*\\n\",\n",
    "    \"\\n\",\n",
    "    \"**Answer**: *When I checked the commit history for the Jupyter Notebook, the code didn’t look familiar at all, but the Python script was much easier to recognize. At first, I was confused about why the notebook’s history seemed so messy, but then I realized it’s because Jupyter Notebooks are saved as JSON files. This means they store not just the code and markdown but also metadata, outputs, and execution details, which makes the commits look way more complicated. That’s why the Python script felt clearer—it’s just regular code without all the extra stuff.*\"\n",
    "   ]\n",
    "}"
   ]
  },
  {
   "cell_type": "code",
   "execution_count": null,
   "id": "9de44221-b45e-4015-aa39-f8d52b5fa6a8",
   "metadata": {},
   "outputs": [],
   "source": []
  }
 ],
 "metadata": {
  "kernelspec": {
   "display_name": "Python [conda env:anaconda3-spyder]",
   "language": "python",
   "name": "conda-env-anaconda3-spyder-py"
  },
  "language_info": {
   "codemirror_mode": {
    "name": "ipython",
    "version": 3
   },
   "file_extension": ".py",
   "mimetype": "text/x-python",
   "name": "python",
   "nbconvert_exporter": "python",
   "pygments_lexer": "ipython3",
   "version": "3.8.5"
  }
 },
 "nbformat": 4,
 "nbformat_minor": 5
}
